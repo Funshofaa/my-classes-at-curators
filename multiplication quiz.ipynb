{
 "cells": [
  {
   "cell_type": "code",
   "execution_count": null,
   "metadata": {},
   "outputs": [],
   "source": [
    "# import random\n",
    "\n",
    "\n",
    "def display_address():\n",
    "    name_user = raw_input('Enter your name')\n",
    "    print('welcome to our multiplication quiz', name_user)\n",
    "\n",
    "\n",
    "\n",
    "def quiz():\n",
    "    status = 'yes'\n",
    "    while status == 'yes':\n",
    "        num1 = random.randint(1, 20)\n",
    "        num2 = random.randint(1, 20)\n",
    "        ans = num1 * num2\n",
    "        user_ans = int(raw_input('{} * {} ='.format(num1, num2)))\n",
    "quiz()"
   ]
  }
 ],
 "metadata": {
  "kernelspec": {
   "display_name": "Python 2",
   "language": "python",
   "name": "python2"
  },
  "language_info": {
   "codemirror_mode": {
    "name": "ipython",
    "version": 2
   },
   "file_extension": ".py",
   "mimetype": "text/x-python",
   "name": "python",
   "nbconvert_exporter": "python",
   "pygments_lexer": "ipython2",
   "version": "2.7.14"
  }
 },
 "nbformat": 4,
 "nbformat_minor": 2
}
