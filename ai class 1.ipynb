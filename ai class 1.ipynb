{
 "cells": [
  {
   "cell_type": "code",
   "execution_count": 1,
   "metadata": {},
   "outputs": [
    {
     "data": {
      "text/plain": [
       "6"
      ]
     },
     "execution_count": 1,
     "metadata": {},
     "output_type": "execute_result"
    }
   ],
   "source": [
    "integer_a = 4 #declaring variables\n",
    "integer_b = 2\n",
    "integer_a + integer_b\n"
   ]
  },
  {
   "cell_type": "markdown",
   "metadata": {},
   "source": [
    "### import random\n",
    "\n",
    "def welcome():\n",
    "    name_user = raw_input('Enter your id')\n",
    "    print('welcome to guess game', name_user)\n",
    "    \n",
    "    \n",
    "def game():\n",
    "    num = random.randint(1, 20)\n",
    "    for i in range(6):    \n",
    "        user_ans = int(raw_input('enter the number'))    \n",
    "        if user_ans < num:\n",
    "           print('your guess is lower')    \n",
    "        elif user_ans > num:\n",
    "           print('your guess is higher')    \n",
    "        else:\n",
    "            print ('good job')\n",
    "        \n",
    "def main():\n",
    "    welcome()\n",
    "    game()\n",
    "    \n",
    "main()\n"
   ]
  },
  {
   "cell_type": "code",
   "execution_count": null,
   "metadata": {},
   "outputs": [],
   "source": [
    "import random\n",
    "\n",
    "def welcome():\n",
    "    name_user = raw_input('Enter your id')\n",
    "    print('welcome to guess game', name_user)\n",
    "    \n",
    "    \n",
    "def game():\n",
    "    num = random.randint(1, 20)\n",
    "    for i in range(4):    \n",
    "        user_ans = int(raw_input('enter the number'))    \n",
    "        if user_ans < num:\n",
    "           print('your guess is lower')    \n",
    "        elif user_ans > num:\n",
    "           print('your guess is higher')    \n",
    "        else:\n",
    "            print ('good job')\n",
    "        \n",
    "def main():\n",
    "    welcome()\n",
    "    game()\n",
    "    \n",
    "main()"
   ]
  },
  {
   "cell_type": "code",
   "execution_count": 131,
   "metadata": {},
   "outputs": [
    {
     "name": "stdout",
     "output_type": "stream",
     "text": [
      "Enter your idfaa\n",
      "('welcome to guess game', 'faa')\n",
      "enter the number13\n",
      "your guess is lower\n",
      "enter the number15\n",
      "your guess is lower\n",
      "enter the number17\n",
      "your guess is lower\n",
      "enter the number18\n",
      "good job\n",
      "enter the number23\n",
      "your guess is higher\n",
      "enter the number21\n",
      "your guess is higher\n"
     ]
    }
   ],
   "source": [
    "import random\n",
    "\n",
    "def welcome():\n",
    "    name_user = raw_input('Enter your id')\n",
    "    print('welcome to guess game', name_user)\n",
    "    \n",
    "    \n",
    "def game():\n",
    "    num = random.randint(1, 20)\n",
    "    for i in range(6):    \n",
    "        user_ans = int(raw_input('enter the number'))    \n",
    "        if user_ans < num:\n",
    "           print('your guess is lower')    \n",
    "        elif user_ans > num:\n",
    "           print('your guess is higher')    \n",
    "        else:\n",
    "            print ('good job')\n",
    "        \n",
    "def main():\n",
    "    welcome()\n",
    "    game()\n",
    "    \n",
    "main()"
   ]
  },
  {
   "cell_type": "code",
   "execution_count": 3,
   "metadata": {},
   "outputs": [
    {
     "name": "stdout",
     "output_type": "stream",
     "text": [
      "Funshofaa\n"
     ]
    }
   ],
   "source": [
    "my_name = 'Funshofaa'\n",
    "print(my_name)\n"
   ]
  },
  {
   "cell_type": "code",
   "execution_count": 5,
   "metadata": {},
   "outputs": [
    {
     "data": {
      "text/plain": [
       "1"
      ]
     },
     "execution_count": 5,
     "metadata": {},
     "output_type": "execute_result"
    }
   ],
   "source": [
    "integer_c = 3\n",
    "integer_d = 2\n",
    "integer_c/integer_d # Divide c by d"
   ]
  },
  {
   "cell_type": "code",
   "execution_count": 3,
   "metadata": {},
   "outputs": [
    {
     "name": "stdout",
     "output_type": "stream",
     "text": [
      "what is your nameamusan funso\n",
      "amusan funso\n",
      "hi amusan funso\n"
     ]
    }
   ],
   "source": [
    "name = raw_input('what is your name')\n",
    "print name\n",
    "print 'hi '+name\n",
    "\n",
    "\n"
   ]
  },
  {
   "cell_type": "code",
   "execution_count": 51,
   "metadata": {},
   "outputs": [
    {
     "name": "stdout",
     "output_type": "stream",
     "text": [
      "enter your namefunso\n",
      "hello funso\n"
     ]
    }
   ],
   "source": [
    "jam = raw_input('enter your name')\n",
    "print 'hello', jam"
   ]
  },
  {
   "cell_type": "code",
   "execution_count": 136,
   "metadata": {},
   "outputs": [
    {
     "name": "stdout",
     "output_type": "stream",
     "text": [
      "1\n",
      "2\n",
      "4\n",
      "5\n"
     ]
    }
   ],
   "source": [
    "two = (2,4,8,10)\n",
    "for i in two:\n",
    "    average = i / 2\n",
    "    print average"
   ]
  },
  {
   "cell_type": "code",
   "execution_count": 6,
   "metadata": {},
   "outputs": [
    {
     "name": "stdout",
     "output_type": "stream",
     "text": [
      "1\n",
      "3\n",
      "5\n",
      "7\n",
      "9\n",
      "11\n"
     ]
    }
   ],
   "source": [
    "seq_odd_num = [1,3,5,7,9]\n",
    "len(seq_odd_num)\n",
    "seq_odd_num.append(11)\n",
    "seq_odd_num\n",
    "for j in seq_odd_num:\n",
    "    print(j)"
   ]
  },
  {
   "cell_type": "code",
   "execution_count": 11,
   "metadata": {},
   "outputs": [
    {
     "name": "stdout",
     "output_type": "stream",
     "text": [
      "2\n",
      "4\n",
      "6\n",
      "8\n",
      "10\n"
     ]
    }
   ],
   "source": [
    "num_10 = [1,2,3,4,5,6,7,8,9,10]\n",
    "for i in num_10:\n",
    "    if(i%2 ==0):\n",
    "        print (i)"
   ]
  },
  {
   "cell_type": "code",
   "execution_count": 57,
   "metadata": {},
   "outputs": [
    {
     "name": "stdout",
     "output_type": "stream",
     "text": [
      "2\n",
      "2\n",
      "2\n",
      "2\n",
      "2\n",
      "2\n",
      "2\n",
      "2\n",
      "2\n",
      "2\n",
      "2\n",
      "2\n",
      "2\n",
      "2\n",
      "2\n",
      "2\n",
      "2\n",
      "2\n",
      "2\n",
      "2\n",
      "2\n",
      "2\n",
      "2\n",
      "2\n",
      "2\n",
      "2\n",
      "2\n",
      "2\n",
      "2\n",
      "2\n",
      "2\n",
      "2\n",
      "2\n",
      "2\n",
      "2\n"
     ]
    }
   ],
   "source": [
    "for k in range(20, 55):\n",
    "    print (2%k)\n",
    "        \n"
   ]
  },
  {
   "cell_type": "code",
   "execution_count": 16,
   "metadata": {},
   "outputs": [
    {
     "name": "stdout",
     "output_type": "stream",
     "text": [
      "1\n",
      "3\n",
      "5\n",
      "7\n",
      "9\n"
     ]
    }
   ],
   "source": [
    "odd_num = [1,2,3,4,5,6,7,8,9,10]\n",
    "for i in odd_num:\n",
    "    if i%2 !=0:\n",
    "        print(i)"
   ]
  },
  {
   "cell_type": "code",
   "execution_count": 18,
   "metadata": {},
   "outputs": [
    {
     "name": "stdout",
     "output_type": "stream",
     "text": [
      "please enter your score100\n",
      "you have an A\n"
     ]
    }
   ],
   "source": [
    "score = int(raw_input('please enter your score'))\n",
    "if score >= 70:\n",
    "    print('you have an A')\n",
    "elif 70<score>=60:\n",
    "    print('you have a B')\n",
    "elif 50<=score<60:\n",
    "    print('you have a C')\n",
    "elif 40<=score<50:\n",
    "    print('you have a D') "
   ]
  },
  {
   "cell_type": "code",
   "execution_count": 19,
   "metadata": {},
   "outputs": [
    {
     "name": "stdout",
     "output_type": "stream",
     "text": [
      "bleat\n"
     ]
    }
   ],
   "source": [
    "#creating a dictionary\n",
    "animals = {'goat':'bleat','dog':'bark','cow':'moo'}\n",
    "print(animals['goat']) "
   ]
  },
  {
   "cell_type": "code",
   "execution_count": 25,
   "metadata": {},
   "outputs": [
    {
     "name": "stdout",
     "output_type": "stream",
     "text": [
      "enter your four digit number:3236\n",
      "Your encrypted number is0903\n"
     ]
    }
   ],
   "source": [
    "#cryptography\n",
    "def encription(number):\n",
    "    while len(number) != 4:\n",
    "        number = raw_input('Enter a four digit number:')\n",
    "    encrypt = ''    \n",
    "    for i in number:\n",
    "        digit = int(i)\n",
    "        digit += 7\n",
    "        rem = digit % 10\n",
    "        rem = str(rem)\n",
    "        encrypt += rem\n",
    "    return encrypt\n",
    "\n",
    "num = raw_input('enter your four digit number:')\n",
    "encrypted_num = encription(num)\n",
    "print('Your encrypted number is' + encrypted_num)\n"
   ]
  },
  {
   "cell_type": "code",
   "execution_count": 28,
   "metadata": {},
   "outputs": [
    {
     "name": "stdout",
     "output_type": "stream",
     "text": [
      "enter value124\n",
      "1\n",
      "2\n",
      "4\n"
     ]
    }
   ],
   "source": [
    "ans=raw_input(\"enter value\")\n",
    "for i in ans:\n",
    "    digit=int(i)\n",
    "    print digit\n"
   ]
  },
  {
   "cell_type": "code",
   "execution_count": 102,
   "metadata": {},
   "outputs": [
    {
     "name": "stdout",
     "output_type": "stream",
     "text": [
      "Enter your name:toluwani\n",
      "('hello', 'toluwani')\n"
     ]
    }
   ],
   "source": [
    "display = 'hello'\n",
    "name = raw_input('Enter your name:')\n",
    "print (display, name)"
   ]
  },
  {
   "cell_type": "code",
   "execution_count": 107,
   "metadata": {},
   "outputs": [
    {
     "ename": "SyntaxError",
     "evalue": "invalid syntax (<ipython-input-107-b180587162f2>, line 3)",
     "output_type": "error",
     "traceback": [
      "\u001b[0;36m  File \u001b[0;32m\"<ipython-input-107-b180587162f2>\"\u001b[0;36m, line \u001b[0;32m3\u001b[0m\n\u001b[0;31m    def display()\u001b[0m\n\u001b[0m                 ^\u001b[0m\n\u001b[0;31mSyntaxError\u001b[0m\u001b[0;31m:\u001b[0m invalid syntax\n"
     ]
    }
   ],
   "source": [
    "import random\n",
    "\n",
    "def display():\n",
    "    print('welcome to dragon realm \\nyou are in a land full of dragons. \\nin front of you, you see two caves. in one cave,the dragon is friendly and will share his treasure with you the other will devour you')\n",
    "    \n",
    "def game():\n",
    "    status = 'yes'\n",
    "    while status == 'yes':\n",
    "        two_caves = random.randint(1, 3)\n",
    "        user_choice = int(raw_input('pick cave 1 or 2'))\n",
    "        if user_choice == two_caves:\n",
    "            print('congratulations, you have won the treasure')\n",
    "        else:\n",
    "            print('you are doomed')\n",
    "        status = rawinput('would you play again (yes/no)')\n",
    "        \n",
    "def main():\n",
    "    display()\n",
    "    game()\n",
    "    \n",
    "main() "
   ]
  },
  {
   "cell_type": "code",
   "execution_count": null,
   "metadata": {},
   "outputs": [],
   "source": [
    "import random\n",
    "\n",
    "num1 = int(random.randrange(1, 9))\n",
    "num2 = int(random.randrange(1, 9))\n",
    "\n",
    "\n",
    "def mutiply(v1, v2):\n",
    "    result = v1 * v2\n",
    "    return result\n",
    "\n",
    "\n",
    "def compare(v1, v2):\n",
    "    \n",
    "    while v1 != v2\n",
    "        global ans1\n",
    "        number = "
   ]
  },
  {
   "cell_type": "code",
   "execution_count": 110,
   "metadata": {},
   "outputs": [
    {
     "name": "stdout",
     "output_type": "stream",
     "text": [
      "enter the table you want4\n",
      "to what extent do you want it15\n",
      "the multiplication table is 4 * 1 = 4\n",
      "the multiplication table is 4 * 2 = 8\n",
      "the multiplication table is 4 * 3 = 12\n",
      "the multiplication table is 4 * 4 = 16\n",
      "the multiplication table is 4 * 5 = 20\n",
      "the multiplication table is 4 * 6 = 24\n",
      "the multiplication table is 4 * 7 = 28\n",
      "the multiplication table is 4 * 8 = 32\n",
      "the multiplication table is 4 * 9 = 36\n",
      "the multiplication table is 4 * 10 = 40\n",
      "the multiplication table is 4 * 11 = 44\n",
      "the multiplication table is 4 * 12 = 48\n",
      "the multiplication table is 4 * 13 = 52\n",
      "the multiplication table is 4 * 14 = 56\n",
      "the multiplication table is 4 * 15 = 60\n"
     ]
    }
   ],
   "source": [
    "types = int(raw_input('enter the table you want'))\n",
    "length =int(raw_input('to what extent do you want it'))\n",
    "for i in range(1, length+1):\n",
    "    ans = types * i\n",
    "    print 'the multiplication table is', types,  '*', i, '=', ans"
   ]
  },
  {
   "cell_type": "code",
   "execution_count": null,
   "metadata": {},
   "outputs": [],
   "source": [
    "user = raw_input('enter your password')\n",
    "pass_word = '35752'\n",
    "counter = 1\n",
    "while counter < 5:\n",
    "    if user != pass_word:\n",
    "        print ('your password is incorrect, try again')\n",
    "        counter = counter + 1\n",
    "        user = raw_input('enter your password')\n",
    "    else:\n",
    "        print('pin ok')\n",
    "        \n",
    "print ('blocked')\n",
    "\n",
    "           "
   ]
  },
  {
   "cell_type": "code",
   "execution_count": 25,
   "metadata": {},
   "outputs": [
    {
     "name": "stdout",
     "output_type": "stream",
     "text": [
      " 120\n"
     ]
    },
    {
     "ename": "KeyboardInterrupt",
     "evalue": "",
     "output_type": "error",
     "traceback": [
      "\u001b[0;31m---------------------------------------------------------------------------\u001b[0m",
      "\u001b[0;31mKeyboardInterrupt\u001b[0m                         Traceback (most recent call last)",
      "\u001b[0;32m<ipython-input-25-ef109f653474>\u001b[0m in \u001b[0;36m<module>\u001b[0;34m()\u001b[0m\n\u001b[1;32m     12\u001b[0m \u001b[0;34m\u001b[0m\u001b[0m\n\u001b[1;32m     13\u001b[0m \u001b[0;31m#we want to get input from user\u001b[0m\u001b[0;34m\u001b[0m\u001b[0;34m\u001b[0m\u001b[0m\n\u001b[0;32m---> 14\u001b[0;31m \u001b[0mnum\u001b[0m \u001b[0;34m=\u001b[0m \u001b[0mint\u001b[0m\u001b[0;34m(\u001b[0m\u001b[0minput\u001b[0m\u001b[0;34m(\u001b[0m\u001b[0;34m'Enter your number (returns factorial):'\u001b[0m\u001b[0;34m)\u001b[0m\u001b[0;34m)\u001b[0m\u001b[0;34m\u001b[0m\u001b[0m\n\u001b[0m\u001b[1;32m     15\u001b[0m \u001b[0;32mprint\u001b[0m \u001b[0;34m'the factorial of'\u001b[0m\u001b[0;34m,\u001b[0m\u001b[0mnum\u001b[0m\u001b[0;34m,\u001b[0m \u001b[0;34m'is'\u001b[0m\u001b[0;34m,\u001b[0m \u001b[0mfactorial\u001b[0m\u001b[0;34m(\u001b[0m\u001b[0mnum\u001b[0m\u001b[0;34m)\u001b[0m\u001b[0;34m\u001b[0m\u001b[0m\n",
      "\u001b[0;32m/anaconda2/lib/python2.7/site-packages/ipykernel/ipkernel.pyc\u001b[0m in \u001b[0;36m<lambda>\u001b[0;34m(prompt)\u001b[0m\n\u001b[1;32m    174\u001b[0m             \u001b[0mself\u001b[0m\u001b[0;34m.\u001b[0m\u001b[0m_sys_eval_input\u001b[0m \u001b[0;34m=\u001b[0m \u001b[0mbuiltin_mod\u001b[0m\u001b[0;34m.\u001b[0m\u001b[0minput\u001b[0m\u001b[0;34m\u001b[0m\u001b[0m\n\u001b[1;32m    175\u001b[0m             \u001b[0mbuiltin_mod\u001b[0m\u001b[0;34m.\u001b[0m\u001b[0mraw_input\u001b[0m \u001b[0;34m=\u001b[0m \u001b[0mself\u001b[0m\u001b[0;34m.\u001b[0m\u001b[0mraw_input\u001b[0m\u001b[0;34m\u001b[0m\u001b[0m\n\u001b[0;32m--> 176\u001b[0;31m             \u001b[0mbuiltin_mod\u001b[0m\u001b[0;34m.\u001b[0m\u001b[0minput\u001b[0m \u001b[0;34m=\u001b[0m \u001b[0;32mlambda\u001b[0m \u001b[0mprompt\u001b[0m\u001b[0;34m=\u001b[0m\u001b[0;34m''\u001b[0m\u001b[0;34m:\u001b[0m \u001b[0meval\u001b[0m\u001b[0;34m(\u001b[0m\u001b[0mself\u001b[0m\u001b[0;34m.\u001b[0m\u001b[0mraw_input\u001b[0m\u001b[0;34m(\u001b[0m\u001b[0mprompt\u001b[0m\u001b[0;34m)\u001b[0m\u001b[0;34m)\u001b[0m\u001b[0;34m\u001b[0m\u001b[0m\n\u001b[0m\u001b[1;32m    177\u001b[0m         \u001b[0mself\u001b[0m\u001b[0;34m.\u001b[0m\u001b[0m_save_getpass\u001b[0m \u001b[0;34m=\u001b[0m \u001b[0mgetpass\u001b[0m\u001b[0;34m.\u001b[0m\u001b[0mgetpass\u001b[0m\u001b[0;34m\u001b[0m\u001b[0m\n\u001b[1;32m    178\u001b[0m         \u001b[0mgetpass\u001b[0m\u001b[0;34m.\u001b[0m\u001b[0mgetpass\u001b[0m \u001b[0;34m=\u001b[0m \u001b[0mself\u001b[0m\u001b[0;34m.\u001b[0m\u001b[0mgetpass\u001b[0m\u001b[0;34m\u001b[0m\u001b[0m\n",
      "\u001b[0;32m/anaconda2/lib/python2.7/site-packages/ipykernel/kernelbase.pyc\u001b[0m in \u001b[0;36mraw_input\u001b[0;34m(self, prompt)\u001b[0m\n\u001b[1;32m    702\u001b[0m             \u001b[0mself\u001b[0m\u001b[0;34m.\u001b[0m\u001b[0m_parent_ident\u001b[0m\u001b[0;34m,\u001b[0m\u001b[0;34m\u001b[0m\u001b[0m\n\u001b[1;32m    703\u001b[0m             \u001b[0mself\u001b[0m\u001b[0;34m.\u001b[0m\u001b[0m_parent_header\u001b[0m\u001b[0;34m,\u001b[0m\u001b[0;34m\u001b[0m\u001b[0m\n\u001b[0;32m--> 704\u001b[0;31m             \u001b[0mpassword\u001b[0m\u001b[0;34m=\u001b[0m\u001b[0mFalse\u001b[0m\u001b[0;34m,\u001b[0m\u001b[0;34m\u001b[0m\u001b[0m\n\u001b[0m\u001b[1;32m    705\u001b[0m         )\n\u001b[1;32m    706\u001b[0m \u001b[0;34m\u001b[0m\u001b[0m\n",
      "\u001b[0;32m/anaconda2/lib/python2.7/site-packages/ipykernel/kernelbase.pyc\u001b[0m in \u001b[0;36m_input_request\u001b[0;34m(self, prompt, ident, parent, password)\u001b[0m\n\u001b[1;32m    732\u001b[0m             \u001b[0;32mexcept\u001b[0m \u001b[0mKeyboardInterrupt\u001b[0m\u001b[0;34m:\u001b[0m\u001b[0;34m\u001b[0m\u001b[0m\n\u001b[1;32m    733\u001b[0m                 \u001b[0;31m# re-raise KeyboardInterrupt, to truncate traceback\u001b[0m\u001b[0;34m\u001b[0m\u001b[0;34m\u001b[0m\u001b[0m\n\u001b[0;32m--> 734\u001b[0;31m                 \u001b[0;32mraise\u001b[0m \u001b[0mKeyboardInterrupt\u001b[0m\u001b[0;34m\u001b[0m\u001b[0m\n\u001b[0m\u001b[1;32m    735\u001b[0m             \u001b[0;32melse\u001b[0m\u001b[0;34m:\u001b[0m\u001b[0;34m\u001b[0m\u001b[0m\n\u001b[1;32m    736\u001b[0m                 \u001b[0;32mbreak\u001b[0m\u001b[0;34m\u001b[0m\u001b[0m\n",
      "\u001b[0;31mKeyboardInterrupt\u001b[0m: "
     ]
    }
   ],
   "source": [
    "#factorial\n",
    "def factorial(n):\n",
    "    # we need a variable that stores our multiplication\n",
    "    # let call the variable total\n",
    "    \n",
    "    total = 1\n",
    "    for i in range(1, n+1):\n",
    "        total = total * i\n",
    "    return total\n",
    "value = factorial(5)\n",
    "print(value)\n",
    "\n",
    "#we want to get input from user\n",
    "num = int(input('Enter your number (returns factorial):'))\n",
    "print 'the factorial of',num, 'is', factorial(num)"
   ]
  },
  {
   "cell_type": "code",
   "execution_count": null,
   "metadata": {},
   "outputs": [],
   "source": [
    "#factorial using while loop\n",
    "def factorial_29(m):"
   ]
  },
  {
   "cell_type": "code",
   "execution_count": 100,
   "metadata": {},
   "outputs": [],
   "source": [
    "best = 1\n",
    "name = 'funsho'    \n",
    "for i in range(1, 150):\n",
    "    print name\n",
    "    \n",
    "\n",
    "    \n"
   ]
  },
  {
   "cell_type": "code",
   "execution_count": 46,
   "metadata": {},
   "outputs": [
    {
     "name": "stdout",
     "output_type": "stream",
     "text": [
      "0\n",
      "1\n",
      "2\n",
      "3\n",
      "4\n",
      "5\n",
      "6\n",
      "7\n",
      "8\n",
      "9\n"
     ]
    }
   ],
   "source": [
    "for i in range(10):\n",
    "    print i,"
   ]
  },
  {
   "cell_type": "code",
   "execution_count": 111,
   "metadata": {},
   "outputs": [
    {
     "name": "stdout",
     "output_type": "stream",
     "text": [
      "enter your year:2018\n",
      "('you have', 100, 'between', 2018)\n"
     ]
    }
   ],
   "source": [
    "#question 17 intro to pratical_introduction\n",
    "def leap_year(year):\n",
    "    \n",
    "    counter = 0   #records num of leap year\n",
    "    for yr in range(1600, year + 1):\n",
    "        if yr % 100 == 0:  #check if year is divisible by 100 for first test\n",
    "            if yr % 4 and yr % 400 == 0: #second test\n",
    "                counter+= 1\n",
    "        elif yr % 4 == 0:\n",
    "            counter += 1\n",
    "    return counter\n",
    "\n",
    "year = int(raw_input('enter your year:'))\n",
    "print('you have', leap_year(year), 'between', year)\n",
    "                "
   ]
  },
  {
   "cell_type": "code",
   "execution_count": 112,
   "metadata": {},
   "outputs": [
    {
     "name": "stdout",
     "output_type": "stream",
     "text": [
      "Enter your namediran\n",
      "('welcome to our multiplication quiz', 'diran')\n",
      "4 * 11 =44\n",
      "would you like to proceed?(yes/no)yes\n",
      "8 * 11 =88\n",
      "would you like to proceed?(yes/no)yes\n",
      "12 * 10 =120\n",
      "would you like to proceed?(yes/no)yes\n",
      "4 * 6 =70\n",
      "try again\n",
      "4 * 6 =65\n",
      "try again\n",
      "4 * 6 =24\n",
      "would you like to proceed?(yes/no)no\n",
      "bye bye\n"
     ]
    }
   ],
   "source": [
    "import random\n",
    "\n",
    "\n",
    "def display_address():\n",
    "    name_user = raw_input('Enter your name')\n",
    "    print('welcome to our multiplication quiz', name_user)\n",
    "\n",
    "\n",
    "\n",
    "def quiz():\n",
    "    status = 'yes'\n",
    "    while status == 'yes':\n",
    "        num1 = random.randint(1, 20)\n",
    "        num2 = random.randint(1, 20)\n",
    "        ans = num1 * num2\n",
    "        user_ans = int(raw_input('{} * {} ='.format(num1, num2)))\n",
    "        while user_ans != ans:\n",
    "            print('try again')\n",
    "            user_ans = int(raw_input('{} * {} ='.format(num1, num2)))\n",
    "        status = raw_input('would you like to proceed?(yes/no)')     \n",
    "\n",
    "def main():\n",
    "    display_address()\n",
    "    quiz()\n",
    "    print('bye bye')\n",
    "main()"
   ]
  },
  {
   "cell_type": "code",
   "execution_count": null,
   "metadata": {},
   "outputs": [],
   "source": [
    "python\n"
   ]
  }
 ],
 "metadata": {
  "kernelspec": {
   "display_name": "Python 2",
   "language": "python",
   "name": "python2"
  },
  "language_info": {
   "codemirror_mode": {
    "name": "ipython",
    "version": 2
   },
   "file_extension": ".py",
   "mimetype": "text/x-python",
   "name": "python",
   "nbconvert_exporter": "python",
   "pygments_lexer": "ipython2",
   "version": "2.7.14"
  }
 },
 "nbformat": 4,
 "nbformat_minor": 2
}
